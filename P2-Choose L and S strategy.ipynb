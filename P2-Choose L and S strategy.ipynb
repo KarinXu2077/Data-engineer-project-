{
 "cells": [
  {
   "cell_type": "code",
   "execution_count": 1,
   "id": "6f0c59d0",
   "metadata": {},
   "outputs": [],
   "source": [
    "import requests\n",
    "import pandas as pd\n",
    "from sklearn.linear_model import LinearRegression\n",
    "from datetime import datetime, timedelta\n",
    "import logging\n",
    "import time\n",
    "api_key = 'beBybSi8daPgsTp5yx5cHtHpYcrjp5Jq'  "
   ]
  },
  {
   "cell_type": "code",
   "execution_count": 2,
   "id": "21805960",
   "metadata": {},
   "outputs": [],
   "source": [
    "logging.basicConfig(level=logging.INFO)\n",
    "def fetch_forex_data(currency_from, currency_to, amount=1, precision=4):\n",
    "    endpoint = f\"https://api.polygon.io/v1/conversion/{currency_from}/{currency_to}?amount={amount}&precision={precision}&apiKey={api_key}\"\n",
    "    try:\n",
    "        response = requests.get(endpoint)\n",
    "        response.raise_for_status()  \n",
    "        data = response.json()\n",
    "        logging.info(data)\n",
    "        if data.get('status') == 'success':\n",
    "            return data\n",
    "        else:\n",
    "            logging.error(f\"Error in response: {data}\")\n",
    "            return None\n",
    "    except requests.HTTPError as http_err:\n",
    "        logging.error(f\"HTTP error occurred: {http_err}\")  \n",
    "        return None\n",
    "    except Exception as err:\n",
    "        logging.error(f\"Other error occurred: {err}\") \n",
    "        return None"
   ]
  },
  {
   "cell_type": "code",
   "execution_count": 3,
   "id": "22c79e6a",
   "metadata": {},
   "outputs": [],
   "source": [
    "import time\n",
    "def get_forex_data_for_two_hours(currency_from, currency_to, amount, precision):\n",
    "    end_time = datetime.now() + timedelta(hours=2)  # set end time = 2 hours later\n",
    "    next_call_time = datetime.now()  # the time of using API next time\n",
    "    data_points = []\n",
    "    \n",
    "    while datetime.now() < end_time:\n",
    "        if datetime.now() >= next_call_time:\n",
    "            data = fetch_forex_data(currency_from, currency_to, amount, precision)\n",
    "            if data:\n",
    "                # get data from dict\n",
    "                timestamp = data.get('last', {}).get('timestamp')\n",
    "                converted = data.get('converted')\n",
    "                if timestamp and converted:\n",
    "                    data_points.append({'time': datetime.fromtimestamp(timestamp / 1000.0), 'mean_rate': converted})\n",
    "                next_call_time += timedelta(minutes=6)\n",
    "            else:\n",
    "                logging.error(f\"Failed to fetch data at {datetime.now()}\")\n",
    "        time.sleep(10)\n",
    "\n",
    "    return pd.DataFrame(data_points)"
   ]
  },
  {
   "cell_type": "code",
   "execution_count": 6,
   "id": "e88f731f",
   "metadata": {},
   "outputs": [
    {
     "name": "stderr",
     "output_type": "stream",
     "text": [
      "INFO:root:{'converted': 1.2549, 'from': 'GBP', 'initialAmount': 1, 'last': {'ask': 1.255, 'bid': 1.25491, 'exchange': 48, 'timestamp': 1714716515000}, 'request_id': '8fa4b0fc9f09a8fc9dc773a43f881430', 'status': 'success', 'symbol': 'GBP/USD', 'to': 'USD'}\n",
      "INFO:root:{'converted': 1.2549, 'from': 'GBP', 'initialAmount': 1, 'last': {'ask': 1.255, 'bid': 1.25491, 'exchange': 48, 'timestamp': 1714716875000}, 'request_id': 'b9388acc40631ab65edf469b8dad96c8', 'status': 'success', 'symbol': 'GBP/USD', 'to': 'USD'}\n",
      "INFO:root:{'converted': 1.2546, 'from': 'GBP', 'initialAmount': 1, 'last': {'ask': 1.25468, 'bid': 1.25464, 'exchange': 48, 'timestamp': 1714717235000}, 'request_id': '5ef30ba85a04646db141e1b77c252101', 'status': 'success', 'symbol': 'GBP/USD', 'to': 'USD'}\n",
      "INFO:root:{'converted': 1.2547, 'from': 'GBP', 'initialAmount': 1, 'last': {'ask': 1.2547, 'bid': 1.25466, 'exchange': 48, 'timestamp': 1714717596000}, 'request_id': '5b79a21813fbb5a25a344d6f06a37ac3', 'status': 'success', 'symbol': 'GBP/USD', 'to': 'USD'}\n",
      "INFO:root:{'converted': 1.2547, 'from': 'GBP', 'initialAmount': 1, 'last': {'ask': 1.25476, 'bid': 1.25472, 'exchange': 48, 'timestamp': 1714717956000}, 'request_id': '8a684b726820f4fe4c863d0a035acbfb', 'status': 'success', 'symbol': 'GBP/USD', 'to': 'USD'}\n",
      "INFO:root:{'converted': 1.2549, 'from': 'GBP', 'initialAmount': 1, 'last': {'ask': 1.25489, 'bid': 1.25485, 'exchange': 48, 'timestamp': 1714718326000}, 'request_id': '6674cd712736fd82def4221583ebeb84', 'status': 'success', 'symbol': 'GBP/USD', 'to': 'USD'}\n",
      "INFO:root:{'converted': 1.2547, 'from': 'GBP', 'initialAmount': 1, 'last': {'ask': 1.2548, 'bid': 1.25471, 'exchange': 48, 'timestamp': 1714718686000}, 'request_id': '00672a3cf37f1152b7b613842c96b740', 'status': 'success', 'symbol': 'GBP/USD', 'to': 'USD'}\n",
      "INFO:root:{'converted': 1.2545, 'from': 'GBP', 'initialAmount': 1, 'last': {'ask': 1.25457, 'bid': 1.25453, 'exchange': 48, 'timestamp': 1714719047000}, 'request_id': '6ab63020e9251701a752a4efdc3ac744', 'status': 'success', 'symbol': 'GBP/USD', 'to': 'USD'}\n",
      "INFO:root:{'converted': 1.2546, 'from': 'GBP', 'initialAmount': 1, 'last': {'ask': 1.25458, 'bid': 1.25455, 'exchange': 48, 'timestamp': 1714719407000}, 'request_id': 'd58f6a24ee77eb2ad6b31e0f27506dac', 'status': 'success', 'symbol': 'GBP/USD', 'to': 'USD'}\n",
      "INFO:root:{'converted': 1.2546, 'from': 'GBP', 'initialAmount': 1, 'last': {'ask': 1.25462, 'bid': 1.25458, 'exchange': 48, 'timestamp': 1714719756000}, 'request_id': '67d2b8514700431a69427b1bcead3c34', 'status': 'success', 'symbol': 'GBP/USD', 'to': 'USD'}\n",
      "INFO:root:{'converted': 1.2547, 'from': 'GBP', 'initialAmount': 1, 'last': {'ask': 1.25471, 'bid': 1.25466, 'exchange': 48, 'timestamp': 1714720118000}, 'request_id': 'bd0baa64483755664b1af68b49221714', 'status': 'success', 'symbol': 'GBP/USD', 'to': 'USD'}\n",
      "INFO:root:{'converted': 1.2546, 'from': 'GBP', 'initialAmount': 1, 'last': {'ask': 1.25474, 'bid': 1.25464, 'exchange': 48, 'timestamp': 1714720478000}, 'request_id': 'a4d5f31e3c97d4f1f19cba3cef494c16', 'status': 'success', 'symbol': 'GBP/USD', 'to': 'USD'}\n",
      "INFO:root:{'converted': 1.2541, 'from': 'GBP', 'initialAmount': 1, 'last': {'ask': 1.25419, 'bid': 1.25414, 'exchange': 48, 'timestamp': 1714720839000}, 'request_id': 'b9477e25660fcd04647cf069651dc9f4', 'status': 'success', 'symbol': 'GBP/USD', 'to': 'USD'}\n",
      "INFO:root:{'converted': 1.2542, 'from': 'GBP', 'initialAmount': 1, 'last': {'ask': 1.25426, 'bid': 1.25416, 'exchange': 48, 'timestamp': 1714721199000}, 'request_id': 'b6a9cfeb543a1ce2284acc62cb577515', 'status': 'success', 'symbol': 'GBP/USD', 'to': 'USD'}\n",
      "INFO:root:{'converted': 1.2544, 'from': 'GBP', 'initialAmount': 1, 'last': {'ask': 1.25447, 'bid': 1.25442, 'exchange': 48, 'timestamp': 1714721559000}, 'request_id': 'e120d02303618ceac6ae43e7c7ef36cd', 'status': 'success', 'symbol': 'GBP/USD', 'to': 'USD'}\n",
      "INFO:root:{'converted': 1.2547, 'from': 'GBP', 'initialAmount': 1, 'last': {'ask': 1.2548, 'bid': 1.2547, 'exchange': 48, 'timestamp': 1714721920000}, 'request_id': '374dce0511a0d608fe04042e2e63c47a', 'status': 'success', 'symbol': 'GBP/USD', 'to': 'USD'}\n",
      "INFO:root:{'converted': 1.2546, 'from': 'GBP', 'initialAmount': 1, 'last': {'ask': 1.25466, 'bid': 1.25461, 'exchange': 48, 'timestamp': 1714722280000}, 'request_id': '7c9bed6066536bf5850adb830000d8d7', 'status': 'success', 'symbol': 'GBP/USD', 'to': 'USD'}\n",
      "INFO:root:{'converted': 1.2548, 'from': 'GBP', 'initialAmount': 1, 'last': {'ask': 1.25488, 'bid': 1.25479, 'exchange': 48, 'timestamp': 1714722640000}, 'request_id': '5890215b3b70cc9dc22e1c75d8a3a373', 'status': 'success', 'symbol': 'GBP/USD', 'to': 'USD'}\n",
      "INFO:root:{'converted': 1.2548, 'from': 'GBP', 'initialAmount': 1, 'last': {'ask': 1.25486, 'bid': 1.25481, 'exchange': 48, 'timestamp': 1714723001000}, 'request_id': '77d0679e6a51ed4d5c9d67705e74ed0e', 'status': 'success', 'symbol': 'GBP/USD', 'to': 'USD'}\n",
      "INFO:root:{'converted': 1.255, 'from': 'GBP', 'initialAmount': 1, 'last': {'ask': 1.25501, 'bid': 1.25496, 'exchange': 48, 'timestamp': 1714723361000}, 'request_id': 'd114147a1b13991ddec45d18e7cbb771', 'status': 'success', 'symbol': 'GBP/USD', 'to': 'USD'}\n",
      "INFO:root:{'converted': 153.251, 'from': 'USD', 'initialAmount': 1, 'last': {'ask': 153.259, 'bid': 153.251, 'exchange': 48, 'timestamp': 1714723721000}, 'request_id': '6041e1e1580edc648d8ed0ad01f22bcc', 'status': 'success', 'symbol': 'USD/JPY', 'to': 'JPY'}\n"
     ]
    },
    {
     "name": "stdout",
     "output_type": "stream",
     "text": [
      "The slope for GBP/USD is: -1.0018327843214844e-06\n"
     ]
    },
    {
     "name": "stderr",
     "output_type": "stream",
     "text": [
      "INFO:root:{'converted': 153.26, 'from': 'USD', 'initialAmount': 1, 'last': {'ask': 153.27, 'bid': 153.26, 'exchange': 48, 'timestamp': 1714724079000}, 'request_id': '85ce08f6c8080c046d2b7863b6540a98', 'status': 'success', 'symbol': 'USD/JPY', 'to': 'JPY'}\n",
      "INFO:root:{'converted': 153.254, 'from': 'USD', 'initialAmount': 1, 'last': {'ask': 153.264, 'bid': 153.254, 'exchange': 48, 'timestamp': 1714724442000}, 'request_id': 'ced3aefcc0228709bb0866fe7e75386a', 'status': 'success', 'symbol': 'USD/JPY', 'to': 'JPY'}\n",
      "INFO:root:{'converted': 153.317, 'from': 'USD', 'initialAmount': 1, 'last': {'ask': 153.329, 'bid': 153.317, 'exchange': 48, 'timestamp': 1714724803000}, 'request_id': '4608f0925b9ce009271e8ef006bef294', 'status': 'success', 'symbol': 'USD/JPY', 'to': 'JPY'}\n",
      "INFO:root:{'converted': 153.231, 'from': 'USD', 'initialAmount': 1, 'last': {'ask': 153.239, 'bid': 153.231, 'exchange': 48, 'timestamp': 1714725163000}, 'request_id': '5f3b997c199d4685b1a76e83f880d61c', 'status': 'success', 'symbol': 'USD/JPY', 'to': 'JPY'}\n",
      "INFO:root:{'converted': 153.214, 'from': 'USD', 'initialAmount': 1, 'last': {'ask': 153.226, 'bid': 153.214, 'exchange': 48, 'timestamp': 1714725523000}, 'request_id': '6fd16845d11730b638bb461dc889e6c1', 'status': 'success', 'symbol': 'USD/JPY', 'to': 'JPY'}\n",
      "INFO:root:{'converted': 153.233, 'from': 'USD', 'initialAmount': 1, 'last': {'ask': 153.242, 'bid': 153.233, 'exchange': 48, 'timestamp': 1714725883000}, 'request_id': '3918710bd9a7af5f27980033ed6e0473', 'status': 'success', 'symbol': 'USD/JPY', 'to': 'JPY'}\n",
      "INFO:root:{'converted': 153.213, 'from': 'USD', 'initialAmount': 1, 'last': {'ask': 153.221, 'bid': 153.213, 'exchange': 48, 'timestamp': 1714726243000}, 'request_id': '8c129b6deda5a59a33cfe213e13e76d9', 'status': 'success', 'symbol': 'USD/JPY', 'to': 'JPY'}\n",
      "INFO:root:{'converted': 153.155, 'from': 'USD', 'initialAmount': 1, 'last': {'ask': 153.164, 'bid': 153.155, 'exchange': 48, 'timestamp': 1714726605000}, 'request_id': '9f0fcabe0ee0ba267235cf3f5b31cca7', 'status': 'success', 'symbol': 'USD/JPY', 'to': 'JPY'}\n",
      "INFO:root:{'converted': 153.177, 'from': 'USD', 'initialAmount': 1, 'last': {'ask': 153.185, 'bid': 153.177, 'exchange': 48, 'timestamp': 1714726964000}, 'request_id': '27e26a74b4b97c3292e47c2e5165f8fb', 'status': 'success', 'symbol': 'USD/JPY', 'to': 'JPY'}\n",
      "INFO:root:{'converted': 153.149, 'from': 'USD', 'initialAmount': 1, 'last': {'ask': 153.159, 'bid': 153.149, 'exchange': 48, 'timestamp': 1714727322000}, 'request_id': 'd14c63f66b0d702ba887887d9cb94756', 'status': 'success', 'symbol': 'USD/JPY', 'to': 'JPY'}\n",
      "INFO:root:{'converted': 153.106, 'from': 'USD', 'initialAmount': 1, 'last': {'ask': 153.115, 'bid': 153.106, 'exchange': 48, 'timestamp': 1714727685000}, 'request_id': '994ca4f1bf48bef8383be96b98822ab3', 'status': 'success', 'symbol': 'USD/JPY', 'to': 'JPY'}\n",
      "INFO:root:{'converted': 153.11, 'from': 'USD', 'initialAmount': 1, 'last': {'ask': 153.118, 'bid': 153.11, 'exchange': 48, 'timestamp': 1714728037000}, 'request_id': '169e273fabe7dc8438fd417203001ce8', 'status': 'success', 'symbol': 'USD/JPY', 'to': 'JPY'}\n",
      "INFO:root:{'converted': 153.001, 'from': 'USD', 'initialAmount': 1, 'last': {'ask': 153.009, 'bid': 153.001, 'exchange': 48, 'timestamp': 1714728405000}, 'request_id': '029dfe20f5108d74ae9c458466c013e1', 'status': 'success', 'symbol': 'USD/JPY', 'to': 'JPY'}\n",
      "INFO:root:{'converted': 153.015, 'from': 'USD', 'initialAmount': 1, 'last': {'ask': 153.024, 'bid': 153.015, 'exchange': 48, 'timestamp': 1714728767000}, 'request_id': '09d64693c521d83fe928881d194e6e6d', 'status': 'success', 'symbol': 'USD/JPY', 'to': 'JPY'}\n",
      "INFO:root:{'converted': 152.977, 'from': 'USD', 'initialAmount': 1, 'last': {'ask': 152.991, 'bid': 152.977, 'exchange': 48, 'timestamp': 1714729127000}, 'request_id': '41cc83aee2bb8122071dbaaec0fd1843', 'status': 'success', 'symbol': 'USD/JPY', 'to': 'JPY'}\n",
      "INFO:root:{'converted': 152.995, 'from': 'USD', 'initialAmount': 1, 'last': {'ask': 153.003, 'bid': 152.995, 'exchange': 48, 'timestamp': 1714729487000}, 'request_id': '8f1ee7b0ce966c7d404256baa18139ac', 'status': 'success', 'symbol': 'USD/JPY', 'to': 'JPY'}\n",
      "INFO:root:{'converted': 153.062, 'from': 'USD', 'initialAmount': 1, 'last': {'ask': 153.071, 'bid': 153.062, 'exchange': 48, 'timestamp': 1714729846000}, 'request_id': '669b6b153595ddd6c181ebf88a236ff8', 'status': 'success', 'symbol': 'USD/JPY', 'to': 'JPY'}\n",
      "INFO:root:{'converted': 153.035, 'from': 'USD', 'initialAmount': 1, 'last': {'ask': 153.044, 'bid': 153.035, 'exchange': 48, 'timestamp': 1714730206000}, 'request_id': 'e0b8294854f3060b920cf9805ec82350', 'status': 'success', 'symbol': 'USD/JPY', 'to': 'JPY'}\n",
      "INFO:root:{'converted': 153.074, 'from': 'USD', 'initialAmount': 1, 'last': {'ask': 153.084, 'bid': 153.074, 'exchange': 48, 'timestamp': 1714730568000}, 'request_id': '347961fec54810e26507dd6a250f2d4f', 'status': 'success', 'symbol': 'USD/JPY', 'to': 'JPY'}\n"
     ]
    },
    {
     "name": "stdout",
     "output_type": "stream",
     "text": [
      "The slope for USD/JPY is: -0.0026485115695229424\n"
     ]
    }
   ],
   "source": [
    "# run model and calculate slope\n",
    "def calculate_slope(df):\n",
    "    df['time_elapsed'] = (df['time'] - df['time'].min()).dt.total_seconds() / 60\n",
    "    X = df[['time_elapsed']]\n",
    "    y = df['mean_rate']\n",
    "    model = LinearRegression()\n",
    "    model.fit(X, y)\n",
    "    return model.coef_[0]  # slope\n",
    "currency_pairs = [('GBP', 'USD'), ('USD', 'JPY')]\n",
    "for currency_from, currency_to in currency_pairs:\n",
    "    df = get_forex_data_for_two_hours(currency_from, currency_to, 1, 4)\n",
    "    if not df.empty:\n",
    "        slope = calculate_slope(df)\n",
    "        print(f\"The slope for {currency_from}/{currency_to} is: {slope}\")\n",
    "    else:\n",
    "        print(f\"No data fetched for {currency_from}/{currency_to}.\")"
   ]
  },
  {
   "cell_type": "code",
   "execution_count": 6,
   "id": "35371bf6",
   "metadata": {},
   "outputs": [
    {
     "name": "stderr",
     "output_type": "stream",
     "text": [
      "INFO:root:{'converted': 1.2546, 'from': 'GBP', 'initialAmount': 1, 'last': {'ask': 1.25472, 'bid': 1.25463, 'exchange': 48, 'timestamp': 1714752563000}, 'request_id': '1b85b341b0b4176999f26be4d918aed7', 'status': 'success', 'symbol': 'GBP/USD', 'to': 'USD'}\n",
      "INFO:root:{'converted': 1.2544, 'from': 'GBP', 'initialAmount': 1, 'last': {'ask': 1.25451, 'bid': 1.25442, 'exchange': 48, 'timestamp': 1714752923000}, 'request_id': '097cd46039f9b2c40f47b28751123175', 'status': 'success', 'symbol': 'GBP/USD', 'to': 'USD'}\n",
      "INFO:root:{'converted': 1.2539, 'from': 'GBP', 'initialAmount': 1, 'last': {'ask': 1.25398, 'bid': 1.25393, 'exchange': 48, 'timestamp': 1714753283000}, 'request_id': '553d61417aa57810be61c600f6d0639e', 'status': 'success', 'symbol': 'GBP/USD', 'to': 'USD'}\n",
      "INFO:root:{'converted': 1.2545, 'from': 'GBP', 'initialAmount': 1, 'last': {'ask': 1.25458, 'bid': 1.25452, 'exchange': 48, 'timestamp': 1714753644000}, 'request_id': 'ee212d2de6aaa55cc1cf963a503e6a01', 'status': 'success', 'symbol': 'GBP/USD', 'to': 'USD'}\n",
      "INFO:root:{'converted': 1.2545, 'from': 'GBP', 'initialAmount': 1, 'last': {'ask': 1.25458, 'bid': 1.25451, 'exchange': 48, 'timestamp': 1714754004000}, 'request_id': '1469ae236aa8ea241b0be886a9b010a3', 'status': 'success', 'symbol': 'GBP/USD', 'to': 'USD'}\n",
      "INFO:root:{'converted': 1.2545, 'from': 'GBP', 'initialAmount': 1, 'last': {'ask': 1.25459, 'bid': 1.25454, 'exchange': 48, 'timestamp': 1714754365000}, 'request_id': '47f83e88b3b766faa7e418b6f0f27818', 'status': 'success', 'symbol': 'GBP/USD', 'to': 'USD'}\n",
      "INFO:root:{'converted': 1.2545, 'from': 'GBP', 'initialAmount': 1, 'last': {'ask': 1.25461, 'bid': 1.25452, 'exchange': 48, 'timestamp': 1714754725000}, 'request_id': '60c08e2f80c140df42e6454285b3bea9', 'status': 'success', 'symbol': 'GBP/USD', 'to': 'USD'}\n",
      "INFO:root:{'converted': 1.2542, 'from': 'GBP', 'initialAmount': 1, 'last': {'ask': 1.2542, 'bid': 1.25415, 'exchange': 48, 'timestamp': 1714755086000}, 'request_id': '2b5e67cb933f8098d789a154ed5df9e4', 'status': 'success', 'symbol': 'GBP/USD', 'to': 'USD'}\n",
      "INFO:root:{'converted': 1.2541, 'from': 'GBP', 'initialAmount': 1, 'last': {'ask': 1.2541, 'bid': 1.25405, 'exchange': 48, 'timestamp': 1714755441000}, 'request_id': 'fe28492304f7f0df7f632597b2a4e8f5', 'status': 'success', 'symbol': 'GBP/USD', 'to': 'USD'}\n",
      "INFO:root:{'converted': 1.254, 'from': 'GBP', 'initialAmount': 1, 'last': {'ask': 1.25406, 'bid': 1.254, 'exchange': 48, 'timestamp': 1714755806000}, 'request_id': '2952cf852afbc3e04bb90ddabce0dcd5', 'status': 'success', 'symbol': 'GBP/USD', 'to': 'USD'}\n",
      "INFO:root:{'converted': 1.2542, 'from': 'GBP', 'initialAmount': 1, 'last': {'ask': 1.25426, 'bid': 1.2542, 'exchange': 48, 'timestamp': 1714756167000}, 'request_id': 'd56ec700f889e71564599baaa4119683', 'status': 'success', 'symbol': 'GBP/USD', 'to': 'USD'}\n",
      "INFO:root:{'converted': 1.2544, 'from': 'GBP', 'initialAmount': 1, 'last': {'ask': 1.25445, 'bid': 1.25438, 'exchange': 48, 'timestamp': 1714756527000}, 'request_id': 'abd2ee9095daef028a6dc463a23c0932', 'status': 'success', 'symbol': 'GBP/USD', 'to': 'USD'}\n",
      "INFO:root:{'converted': 1.2542, 'from': 'GBP', 'initialAmount': 1, 'last': {'ask': 1.25429, 'bid': 1.25423, 'exchange': 48, 'timestamp': 1714756887000}, 'request_id': 'ba9a25164af74b665169db76d9ff2404', 'status': 'success', 'symbol': 'GBP/USD', 'to': 'USD'}\n",
      "INFO:root:{'converted': 1.2543, 'from': 'GBP', 'initialAmount': 1, 'last': {'ask': 1.2545, 'bid': 1.2543, 'exchange': 48, 'timestamp': 1714757248000}, 'request_id': '8309fbfb15c988c11b07b11028d3664c', 'status': 'success', 'symbol': 'GBP/USD', 'to': 'USD'}\n",
      "INFO:root:{'converted': 1.2545, 'from': 'GBP', 'initialAmount': 1, 'last': {'ask': 1.25456, 'bid': 1.2545, 'exchange': 48, 'timestamp': 1714757608000}, 'request_id': '4119ec4adfdc3986944075c186c2b335', 'status': 'success', 'symbol': 'GBP/USD', 'to': 'USD'}\n",
      "INFO:root:{'converted': 1.2547, 'from': 'GBP', 'initialAmount': 1, 'last': {'ask': 1.2548, 'bid': 1.25473, 'exchange': 48, 'timestamp': 1714757968000}, 'request_id': 'ad9ab024d73b734a047010ea355ac9b3', 'status': 'success', 'symbol': 'GBP/USD', 'to': 'USD'}\n",
      "INFO:root:{'converted': 1.2545, 'from': 'GBP', 'initialAmount': 1, 'last': {'ask': 1.25455, 'bid': 1.25449, 'exchange': 48, 'timestamp': 1714758329000}, 'request_id': '5c211a72e831f5f8b822050d0ee348cc', 'status': 'success', 'symbol': 'GBP/USD', 'to': 'USD'}\n",
      "INFO:root:{'converted': 1.2546, 'from': 'GBP', 'initialAmount': 1, 'last': {'ask': 1.25465, 'bid': 1.25459, 'exchange': 48, 'timestamp': 1714758689000}, 'request_id': '4944d6299e51bcea224e1debbe36af04', 'status': 'success', 'symbol': 'GBP/USD', 'to': 'USD'}\n",
      "INFO:root:{'converted': 1.2549, 'from': 'GBP', 'initialAmount': 1, 'last': {'ask': 1.25498, 'bid': 1.25492, 'exchange': 48, 'timestamp': 1714759049000}, 'request_id': '0c5a7b1c31d68979153da4d72158809b', 'status': 'success', 'symbol': 'GBP/USD', 'to': 'USD'}\n",
      "INFO:root:{'converted': 1.2544, 'from': 'GBP', 'initialAmount': 1, 'last': {'ask': 1.2545, 'bid': 1.25444, 'exchange': 48, 'timestamp': 1714759410000}, 'request_id': '11dd6388e14b8139068cc1b2432ba118', 'status': 'success', 'symbol': 'GBP/USD', 'to': 'USD'}\n",
      "INFO:root:{'converted': 152.922, 'from': 'USD', 'initialAmount': 1, 'last': {'ask': 152.93, 'bid': 152.922, 'exchange': 48, 'timestamp': 1714759770000}, 'request_id': '390eb990f392a1968b86a54dad649c13', 'status': 'success', 'symbol': 'USD/JPY', 'to': 'JPY'}\n"
     ]
    },
    {
     "name": "stdout",
     "output_type": "stream",
     "text": [
      "The slope for GBP/USD is: 2.1413982451051424e-06\n"
     ]
    },
    {
     "name": "stderr",
     "output_type": "stream",
     "text": [
      "INFO:root:{'converted': 152.923, 'from': 'USD', 'initialAmount': 1, 'last': {'ask': 152.933, 'bid': 152.923, 'exchange': 48, 'timestamp': 1714760132000}, 'request_id': 'ef42ae7803cb62681c2d0a2424d86694', 'status': 'success', 'symbol': 'USD/JPY', 'to': 'JPY'}\n",
      "INFO:root:{'converted': 152.948, 'from': 'USD', 'initialAmount': 1, 'last': {'ask': 152.958, 'bid': 152.948, 'exchange': 48, 'timestamp': 1714760492000}, 'request_id': 'dfa7d1b521340323275ce11513b69213', 'status': 'success', 'symbol': 'USD/JPY', 'to': 'JPY'}\n",
      "INFO:root:{'converted': 152.953, 'from': 'USD', 'initialAmount': 1, 'last': {'ask': 152.963, 'bid': 152.953, 'exchange': 48, 'timestamp': 1714760851000}, 'request_id': 'ac666cae9066aed2d50ead35d280fdb6', 'status': 'success', 'symbol': 'USD/JPY', 'to': 'JPY'}\n",
      "INFO:root:{'converted': 152.941, 'from': 'USD', 'initialAmount': 1, 'last': {'ask': 152.954, 'bid': 152.941, 'exchange': 48, 'timestamp': 1714761212000}, 'request_id': '66637913b2d087ee6e83848325b83746', 'status': 'success', 'symbol': 'USD/JPY', 'to': 'JPY'}\n",
      "INFO:root:{'converted': 152.945, 'from': 'USD', 'initialAmount': 1, 'last': {'ask': 152.953, 'bid': 152.945, 'exchange': 48, 'timestamp': 1714761572000}, 'request_id': 'ea22ca3898e0ea1d64e99014094ca39a', 'status': 'success', 'symbol': 'USD/JPY', 'to': 'JPY'}\n",
      "INFO:root:{'converted': 152.954, 'from': 'USD', 'initialAmount': 1, 'last': {'ask': 152.968, 'bid': 152.954, 'exchange': 48, 'timestamp': 1714761933000}, 'request_id': 'cc9b9f8c1c1251006a101c15f7dd9e63', 'status': 'success', 'symbol': 'USD/JPY', 'to': 'JPY'}\n",
      "INFO:root:{'converted': 152.924, 'from': 'USD', 'initialAmount': 1, 'last': {'ask': 152.934, 'bid': 152.924, 'exchange': 48, 'timestamp': 1714762294000}, 'request_id': '04efed306d7ebcf03a5a917917269721', 'status': 'success', 'symbol': 'USD/JPY', 'to': 'JPY'}\n",
      "INFO:root:{'converted': 152.923, 'from': 'USD', 'initialAmount': 1, 'last': {'ask': 152.932, 'bid': 152.923, 'exchange': 48, 'timestamp': 1714762654000}, 'request_id': '9923535b0ae7800192b184a4d1c6e2e8', 'status': 'success', 'symbol': 'USD/JPY', 'to': 'JPY'}\n",
      "INFO:root:{'converted': 152.944, 'from': 'USD', 'initialAmount': 1, 'last': {'ask': 152.957, 'bid': 152.944, 'exchange': 48, 'timestamp': 1714763013000}, 'request_id': '030bf35c059d5e5398675c3946f728ef', 'status': 'success', 'symbol': 'USD/JPY', 'to': 'JPY'}\n",
      "INFO:root:{'converted': 152.922, 'from': 'USD', 'initialAmount': 1, 'last': {'ask': 152.933, 'bid': 152.922, 'exchange': 48, 'timestamp': 1714763375000}, 'request_id': '44349163c5f892c7ba38cba4330e6cf5', 'status': 'success', 'symbol': 'USD/JPY', 'to': 'JPY'}\n",
      "INFO:root:{'converted': 152.92, 'from': 'USD', 'initialAmount': 1, 'last': {'ask': 152.93, 'bid': 152.92, 'exchange': 48, 'timestamp': 1714763734000}, 'request_id': '29529d52549b34ce9b5528407b3c821c', 'status': 'success', 'symbol': 'USD/JPY', 'to': 'JPY'}\n",
      "INFO:root:{'converted': 152.856, 'from': 'USD', 'initialAmount': 1, 'last': {'ask': 152.868, 'bid': 152.856, 'exchange': 48, 'timestamp': 1714764097000}, 'request_id': '05b852a8da26a5c63be77e804168ae14', 'status': 'success', 'symbol': 'USD/JPY', 'to': 'JPY'}\n",
      "INFO:root:{'converted': 152.875, 'from': 'USD', 'initialAmount': 1, 'last': {'ask': 152.886, 'bid': 152.875, 'exchange': 48, 'timestamp': 1714764449000}, 'request_id': '0e8daacb437cd6ee8670c0f74b95a186', 'status': 'success', 'symbol': 'USD/JPY', 'to': 'JPY'}\n",
      "INFO:root:{'converted': 152.866, 'from': 'USD', 'initialAmount': 1, 'last': {'ask': 152.876, 'bid': 152.866, 'exchange': 48, 'timestamp': 1714764818000}, 'request_id': 'ab360772af5389c418cca1b15ac1f198', 'status': 'success', 'symbol': 'USD/JPY', 'to': 'JPY'}\n",
      "INFO:root:{'converted': 152.882, 'from': 'USD', 'initialAmount': 1, 'last': {'ask': 152.893, 'bid': 152.882, 'exchange': 48, 'timestamp': 1714765179000}, 'request_id': '7a985981dd457a67a4f39ace75587a05', 'status': 'success', 'symbol': 'USD/JPY', 'to': 'JPY'}\n",
      "INFO:root:{'converted': 152.871, 'from': 'USD', 'initialAmount': 1, 'last': {'ask': 152.883, 'bid': 152.871, 'exchange': 48, 'timestamp': 1714765539000}, 'request_id': '1ad0eb73c00b88e06cd744c43c8a630d', 'status': 'success', 'symbol': 'USD/JPY', 'to': 'JPY'}\n",
      "INFO:root:{'converted': 152.871, 'from': 'USD', 'initialAmount': 1, 'last': {'ask': 152.881, 'bid': 152.871, 'exchange': 48, 'timestamp': 1714765899000}, 'request_id': 'b7a226409aa9bf7cb0956d317e980349', 'status': 'success', 'symbol': 'USD/JPY', 'to': 'JPY'}\n",
      "INFO:root:{'converted': 152.889, 'from': 'USD', 'initialAmount': 1, 'last': {'ask': 152.899, 'bid': 152.889, 'exchange': 48, 'timestamp': 1714766260000}, 'request_id': '690a15775216ddf77dbf34521d741ee8', 'status': 'success', 'symbol': 'USD/JPY', 'to': 'JPY'}\n",
      "INFO:root:{'converted': 152.895, 'from': 'USD', 'initialAmount': 1, 'last': {'ask': 152.904, 'bid': 152.895, 'exchange': 48, 'timestamp': 1714766619000}, 'request_id': '432de206c4df2cc100f096053c1345ec', 'status': 'success', 'symbol': 'USD/JPY', 'to': 'JPY'}\n"
     ]
    },
    {
     "name": "stdout",
     "output_type": "stream",
     "text": [
      "The slope for USD/JPY is: -0.0007003552240410464\n",
      "Long GBPUSD, Short USDJPY\n"
     ]
    }
   ],
   "source": [
    "# run model and calculate slope\n",
    "def calculate_slope(df):\n",
    "    df['time_elapsed'] = (df['time'] - df['time'].min()).dt.total_seconds() / 60\n",
    "    X = df[['time_elapsed']]\n",
    "    y = df['mean_rate']\n",
    "    model = LinearRegression()\n",
    "    model.fit(X, y)\n",
    "    return model.coef_[0]  # slope\n",
    "def main():\n",
    "    currency_pairs = [('GBP', 'USD'), ('USD', 'JPY')]\n",
    "    slopes = {}\n",
    "    \n",
    "    for currency_from, currency_to in currency_pairs:\n",
    "        df = get_forex_data_for_two_hours(currency_from, currency_to, 1, 4)\n",
    "        if not df.empty:\n",
    "            slope = calculate_slope(df)\n",
    "            slopes[f'{currency_from}{currency_to}'] = slope\n",
    "            print(f\"The slope for {currency_from}/{currency_to} is: {slope}\")\n",
    "        else:\n",
    "            print(f\"No data fetched for {currency_from}/{currency_to}.\")\n",
    "        \n",
    "    if slopes:\n",
    "        # compare slope\n",
    "        long_pair = max(slopes, key=slopes.get)\n",
    "        short_pair = min(slopes, key=slopes.get)\n",
    "        print(f\"Long {long_pair}, Short {short_pair}\")\n",
    "\n",
    "if __name__ == \"__main__\":\n",
    "    main()"
   ]
  }
 ],
 "metadata": {
  "kernelspec": {
   "display_name": "Python 3 (ipykernel)",
   "language": "python",
   "name": "python3"
  },
  "language_info": {
   "codemirror_mode": {
    "name": "ipython",
    "version": 3
   },
   "file_extension": ".py",
   "mimetype": "text/x-python",
   "name": "python",
   "nbconvert_exporter": "python",
   "pygments_lexer": "ipython3",
   "version": "3.9.13"
  }
 },
 "nbformat": 4,
 "nbformat_minor": 5
}
